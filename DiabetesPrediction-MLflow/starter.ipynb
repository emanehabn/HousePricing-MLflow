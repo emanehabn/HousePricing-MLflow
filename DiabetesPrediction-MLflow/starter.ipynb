{
 "cells": [
  {
   "cell_type": "code",
   "execution_count": 25,
   "id": "65e46062",
   "metadata": {},
   "outputs": [],
   "source": [
    "import keras\n",
    "import mlflow\n",
    "from mlflow.models import infer_signature\n",
    "\n",
    "import numpy as np\n",
    "import pandas as pd\n",
    "\n",
    "from sklearn.metrics import mean_squared_error\n",
    "from sklearn.model_selection import train_test_split\n",
    "\n",
    "from hyperopt import STATUS_OK,Trials,fmin,hp,tpe"
   ]
  },
  {
   "cell_type": "code",
   "execution_count": 26,
   "id": "1391edac",
   "metadata": {},
   "outputs": [],
   "source": [
    "data_df = pd.read_csv(\"https://raw.githubusercontent.com/MainakRepositor/Datasets/refs/heads/master/diabetes.csv\", sep=\",\")"
   ]
  },
  {
   "cell_type": "code",
   "execution_count": 7,
   "id": "c0294755",
   "metadata": {},
   "outputs": [
    {
     "data": {
      "text/html": [
       "<div>\n",
       "<style scoped>\n",
       "    .dataframe tbody tr th:only-of-type {\n",
       "        vertical-align: middle;\n",
       "    }\n",
       "\n",
       "    .dataframe tbody tr th {\n",
       "        vertical-align: top;\n",
       "    }\n",
       "\n",
       "    .dataframe thead th {\n",
       "        text-align: right;\n",
       "    }\n",
       "</style>\n",
       "<table border=\"1\" class=\"dataframe\">\n",
       "  <thead>\n",
       "    <tr style=\"text-align: right;\">\n",
       "      <th></th>\n",
       "      <th>Pregnancies</th>\n",
       "      <th>Glucose</th>\n",
       "      <th>BloodPressure</th>\n",
       "      <th>SkinThickness</th>\n",
       "      <th>Insulin</th>\n",
       "      <th>BMI</th>\n",
       "      <th>DiabetesPedigreeFunction</th>\n",
       "      <th>Age</th>\n",
       "      <th>Outcome</th>\n",
       "    </tr>\n",
       "  </thead>\n",
       "  <tbody>\n",
       "    <tr>\n",
       "      <th>0</th>\n",
       "      <td>6</td>\n",
       "      <td>148</td>\n",
       "      <td>72</td>\n",
       "      <td>35</td>\n",
       "      <td>0</td>\n",
       "      <td>33.6</td>\n",
       "      <td>0.627</td>\n",
       "      <td>50</td>\n",
       "      <td>1</td>\n",
       "    </tr>\n",
       "    <tr>\n",
       "      <th>1</th>\n",
       "      <td>1</td>\n",
       "      <td>85</td>\n",
       "      <td>66</td>\n",
       "      <td>29</td>\n",
       "      <td>0</td>\n",
       "      <td>26.6</td>\n",
       "      <td>0.351</td>\n",
       "      <td>31</td>\n",
       "      <td>0</td>\n",
       "    </tr>\n",
       "    <tr>\n",
       "      <th>2</th>\n",
       "      <td>8</td>\n",
       "      <td>183</td>\n",
       "      <td>64</td>\n",
       "      <td>0</td>\n",
       "      <td>0</td>\n",
       "      <td>23.3</td>\n",
       "      <td>0.672</td>\n",
       "      <td>32</td>\n",
       "      <td>1</td>\n",
       "    </tr>\n",
       "    <tr>\n",
       "      <th>3</th>\n",
       "      <td>1</td>\n",
       "      <td>89</td>\n",
       "      <td>66</td>\n",
       "      <td>23</td>\n",
       "      <td>94</td>\n",
       "      <td>28.1</td>\n",
       "      <td>0.167</td>\n",
       "      <td>21</td>\n",
       "      <td>0</td>\n",
       "    </tr>\n",
       "    <tr>\n",
       "      <th>4</th>\n",
       "      <td>0</td>\n",
       "      <td>137</td>\n",
       "      <td>40</td>\n",
       "      <td>35</td>\n",
       "      <td>168</td>\n",
       "      <td>43.1</td>\n",
       "      <td>2.288</td>\n",
       "      <td>33</td>\n",
       "      <td>1</td>\n",
       "    </tr>\n",
       "  </tbody>\n",
       "</table>\n",
       "</div>"
      ],
      "text/plain": [
       "   Pregnancies  Glucose  BloodPressure  ...  DiabetesPedigreeFunction  Age  Outcome\n",
       "0            6      148             72  ...                     0.627   50        1\n",
       "1            1       85             66  ...                     0.351   31        0\n",
       "2            8      183             64  ...                     0.672   32        1\n",
       "3            1       89             66  ...                     0.167   21        0\n",
       "4            0      137             40  ...                     2.288   33        1\n",
       "\n",
       "[5 rows x 9 columns]"
      ]
     },
     "execution_count": 7,
     "metadata": {},
     "output_type": "execute_result"
    }
   ],
   "source": [
    "data_df.head()"
   ]
  },
  {
   "cell_type": "markdown",
   "id": "ad22ac6c",
   "metadata": {},
   "source": [
    "#### Data prepration:"
   ]
  },
  {
   "cell_type": "code",
   "execution_count": 27,
   "id": "77a04fe6",
   "metadata": {},
   "outputs": [],
   "source": [
    "X_data = data_df.drop(['Outcome'],axis=1).values\n",
    "y_data = data_df[['Outcome']].values.ravel()\n",
    "\n",
    "X_train, X_test, y_train, y_test = train_test_split(X_data, y_data, test_size=0.25, random_state=42)"
   ]
  },
  {
   "cell_type": "code",
   "execution_count": 28,
   "id": "b630bc45",
   "metadata": {},
   "outputs": [],
   "source": [
    "X_train, X_valid, y_train, y_valid = train_test_split(X_train, y_train, test_size=0.2, random_state=42)"
   ]
  },
  {
   "cell_type": "code",
   "execution_count": 29,
   "id": "3ba92c2c",
   "metadata": {},
   "outputs": [],
   "source": [
    "signature = infer_signature(X_train, y_train)"
   ]
  },
  {
   "cell_type": "code",
   "execution_count": null,
   "id": "b3238eb0",
   "metadata": {},
   "outputs": [],
   "source": [
    "def train_model(params, epochs, X_train, X_valid, X_test, y_train, y_valid, y_test):\n",
    "    mean = np.mean(X_train, axis=0)\n",
    "    var = np.var(X_train, axis=0)\n",
    "\n",
    "    model=keras.Sequential(\n",
    "        [\n",
    "            keras.Input([X_train.shape[1]]),\n",
    "            keras.layers.Normalization(mean=mean,variance=var),\n",
    "            keras.layers.Dense(64,activation='relu'),\n",
    "            keras.layers.Dense(1)\n",
    "\n",
    "        ]\n",
    "    )\n",
    "\n",
    "    ## compile the model\n",
    "    model.compile(  optimizer=keras.optimizers.SGD(\n",
    "                    learning_rate=params[\"lr\"],\n",
    "                    momentum=params[\"momentum\"]),\n",
    "                    loss=\"mean_squared_error\",\n",
    "                    metrics=[keras.metrics.RootMeanSquaredError()]\n",
    "                )\n",
    "    \n",
    "    # track training\n",
    "\n",
    "    with mlflow.start_run(nested=True):\n",
    "        model.fit(X_train, y_train,validation_data=(X_valid,y_valid),\n",
    "                  epochs=epochs,\n",
    "                  batch_size=64)\n",
    "        \n",
    "        eval_result=model.evaluate(X_valid,y_valid,batch_size=64)\n",
    "\n",
    "        eval_rmse=eval_result[1]\n",
    "\n",
    "        ## Log the parameters and results\n",
    "        mlflow.log_params(params)\n",
    "        mlflow.log_metric(\"eval_rmse\",eval_rmse)\n",
    "\n",
    "        mlflow.tensorflow.log_model(model,\"model\",signature=signature)\n",
    "        return {\"loss\": eval_rmse, \"status\": STATUS_OK, \"model\": model}"
   ]
  },
  {
   "cell_type": "code",
   "execution_count": 32,
   "id": "684a9b75",
   "metadata": {},
   "outputs": [],
   "source": [
    "def objective(params):\n",
    "    # MLflow will track the parameters and results for each run\n",
    "    result = train_model(\n",
    "        params,\n",
    "        epochs=3,\n",
    "        X_train=X_train,\n",
    "        y_train=y_train,\n",
    "        X_valid=X_valid,\n",
    "        y_valid=y_valid,\n",
    "        X_test=X_test,\n",
    "        y_test=y_test,\n",
    "    )\n",
    "    return result"
   ]
  },
  {
   "cell_type": "code",
   "execution_count": 33,
   "id": "d173aeb6",
   "metadata": {},
   "outputs": [],
   "source": [
    "space={\n",
    "    \"lr\":hp.loguniform(\"lr\",np.log(1e-5),np.log(1e-1)),\n",
    "    \"momentum\":hp.uniform(\"momentum\",0.0,1.0)\n",
    "\n",
    "}"
   ]
  },
  {
   "cell_type": "code",
   "execution_count": 34,
   "id": "bcea60ee",
   "metadata": {},
   "outputs": [
    {
     "name": "stderr",
     "output_type": "stream",
     "text": [
      "2025/07/30 08:27:51 INFO mlflow.tracking.fluent: Experiment with name 'deiabetes-prediction' does not exist. Creating a new experiment.\n"
     ]
    },
    {
     "name": "stdout",
     "output_type": "stream",
     "text": [
      "  0%|          | 0/4 [00:00<?, ?trial/s, best loss=?]"
     ]
    },
    {
     "name": "stderr",
     "output_type": "stream",
     "text": [
      "E0000 00:00:1753853271.474351    8893 cuda_executor.cc:1228] INTERNAL: CUDA Runtime error: Failed call to cudaGetRuntimeVersion: Error loading CUDA libraries. GPU will not be used.: Error loading CUDA libraries. GPU will not be used.\n",
      "W0000 00:00:1753853271.498835    8893 gpu_device.cc:2341] Cannot dlopen some GPU libraries. Please make sure the missing libraries mentioned above are installed properly if you would like to use GPU. Follow the guide at https://www.tensorflow.org/install/gpu for how to download and setup the required libraries for your platform.\n",
      "Skipping registering GPU devices...\n"
     ]
    },
    {
     "name": "stdout",
     "output_type": "stream",
     "text": [
      "Epoch 1/3                                            \n",
      "\n",
      "\u001b[1m1/8\u001b[0m \u001b[32m━━\u001b[0m\u001b[37m━━━━━━━━━━━━━━━━━━\u001b[0m \u001b[1m1s\u001b[0m 278ms/step - loss: 0.4890 - root_mean_squared_error: 0.6993\n",
      "\u001b[1m8/8\u001b[0m \u001b[32m━━━━━━━━━━━━━━━━━━━━\u001b[0m\u001b[37m\u001b[0m \u001b[1m0s\u001b[0m 18ms/step - loss: 0.4018 - root_mean_squared_error: 0.6339 - val_loss: 0.3385 - val_root_mean_squared_error: 0.5818\n",
      "\n",
      "Epoch 2/3                                            \n",
      "\n",
      "\u001b[1m1/8\u001b[0m \u001b[32m━━\u001b[0m\u001b[37m━━━━━━━━━━━━━━━━━━\u001b[0m \u001b[1m0s\u001b[0m 14ms/step - loss: 0.3085 - root_mean_squared_error: 0.5554\n",
      "\u001b[1m8/8\u001b[0m \u001b[32m━━━━━━━━━━━━━━━━━━━━\u001b[0m\u001b[37m\u001b[0m \u001b[1m0s\u001b[0m 6ms/step - loss: 0.3828 - root_mean_squared_error: 0.6187 - val_loss: 0.3150 - val_root_mean_squared_error: 0.5612\n",
      "\n",
      "Epoch 3/3                                            \n",
      "\n",
      "\u001b[1m1/8\u001b[0m \u001b[32m━━\u001b[0m\u001b[37m━━━━━━━━━━━━━━━━━━\u001b[0m \u001b[1m0s\u001b[0m 14ms/step - loss: 0.3289 - root_mean_squared_error: 0.5735\n",
      "\u001b[1m8/8\u001b[0m \u001b[32m━━━━━━━━━━━━━━━━━━━━\u001b[0m\u001b[37m\u001b[0m \u001b[1m0s\u001b[0m 6ms/step - loss: 0.3567 - root_mean_squared_error: 0.5973 - val_loss: 0.2898 - val_root_mean_squared_error: 0.5383\n",
      "\n",
      "\u001b[1m1/2\u001b[0m \u001b[32m━━━━━━━━━━\u001b[0m\u001b[37m━━━━━━━━━━\u001b[0m \u001b[1m0s\u001b[0m 12ms/step - loss: 0.3318 - root_mean_squared_error: 0.5761\n",
      "\u001b[1m2/2\u001b[0m \u001b[32m━━━━━━━━━━━━━━━━━━━━\u001b[0m\u001b[37m\u001b[0m \u001b[1m0s\u001b[0m 13ms/step - loss: 0.2898 - root_mean_squared_error: 0.5383\n",
      "\n",
      "  0%|          | 0/4 [00:00<?, ?trial/s, best loss=?]"
     ]
    },
    {
     "name": "stderr",
     "output_type": "stream",
     "text": [
      "2025/07/30 08:27:52 WARNING mlflow.models.model: `artifact_path` is deprecated. Please use `name` instead.\n",
      "\n"
     ]
    },
    {
     "name": "stdout",
     "output_type": "stream",
     "text": [
      "Epoch 1/3                                                                      \n",
      "\n",
      "\u001b[1m1/8\u001b[0m \u001b[32m━━\u001b[0m\u001b[37m━━━━━━━━━━━━━━━━━━\u001b[0m \u001b[1m1s\u001b[0m 240ms/step - loss: 0.7014 - root_mean_squared_error: 0.8375\n",
      "\u001b[1m8/8\u001b[0m \u001b[32m━━━━━━━━━━━━━━━━━━━━\u001b[0m\u001b[37m\u001b[0m \u001b[1m0s\u001b[0m 17ms/step - loss: 0.6440 - root_mean_squared_error: 0.8025 - val_loss: 0.5379 - val_root_mean_squared_error: 0.7334\n",
      "\n",
      "Epoch 2/3                                                                      \n",
      "\n",
      "\u001b[1m1/8\u001b[0m \u001b[32m━━\u001b[0m\u001b[37m━━━━━━━━━━━━━━━━━━\u001b[0m \u001b[1m0s\u001b[0m 15ms/step - loss: 0.6909 - root_mean_squared_error: 0.8312\n",
      "\u001b[1m8/8\u001b[0m \u001b[32m━━━━━━━━━━━━━━━━━━━━\u001b[0m\u001b[37m\u001b[0m \u001b[1m0s\u001b[0m 7ms/step - loss: 0.6340 - root_mean_squared_error: 0.7962 - val_loss: 0.5288 - val_root_mean_squared_error: 0.7272\n",
      "\n",
      "Epoch 3/3                                                                      \n",
      "\n",
      "\u001b[1m1/8\u001b[0m \u001b[32m━━\u001b[0m\u001b[37m━━━━━━━━━━━━━━━━━━\u001b[0m \u001b[1m0s\u001b[0m 14ms/step - loss: 0.7064 - root_mean_squared_error: 0.8405\n",
      "\u001b[1m8/8\u001b[0m \u001b[32m━━━━━━━━━━━━━━━━━━━━\u001b[0m\u001b[37m\u001b[0m \u001b[1m0s\u001b[0m 6ms/step - loss: 0.6239 - root_mean_squared_error: 0.7899 - val_loss: 0.5197 - val_root_mean_squared_error: 0.7209\n",
      "\n",
      "\u001b[1m1/2\u001b[0m \u001b[32m━━━━━━━━━━\u001b[0m\u001b[37m━━━━━━━━━━\u001b[0m \u001b[1m0s\u001b[0m 14ms/step - loss: 0.5343 - root_mean_squared_error: 0.7310\n",
      "\u001b[1m2/2\u001b[0m \u001b[32m━━━━━━━━━━━━━━━━━━━━\u001b[0m\u001b[37m\u001b[0m \u001b[1m0s\u001b[0m 17ms/step - loss: 0.5197 - root_mean_squared_error: 0.7209\n",
      "\n",
      " 25%|██▌       | 1/4 [00:06<00:17,  5.77s/trial, best loss: 0.5382937788963318]"
     ]
    },
    {
     "name": "stderr",
     "output_type": "stream",
     "text": [
      "2025/07/30 08:27:57 WARNING mlflow.models.model: `artifact_path` is deprecated. Please use `name` instead.\n",
      "\n"
     ]
    },
    {
     "name": "stdout",
     "output_type": "stream",
     "text": [
      "Epoch 1/3                                                                      \n",
      "\n",
      "\u001b[1m1/8\u001b[0m \u001b[32m━━\u001b[0m\u001b[37m━━━━━━━━━━━━━━━━━━\u001b[0m \u001b[1m1s\u001b[0m 225ms/step - loss: 0.3266 - root_mean_squared_error: 0.5715\n",
      "\u001b[1m8/8\u001b[0m \u001b[32m━━━━━━━━━━━━━━━━━━━━\u001b[0m\u001b[37m\u001b[0m \u001b[1m0s\u001b[0m 19ms/step - loss: 0.3744 - root_mean_squared_error: 0.6119 - val_loss: 0.3353 - val_root_mean_squared_error: 0.5791\n",
      "\n",
      "Epoch 2/3                                                                      \n",
      "\n",
      "\u001b[1m1/8\u001b[0m \u001b[32m━━\u001b[0m\u001b[37m━━━━━━━━━━━━━━━━━━\u001b[0m \u001b[1m0s\u001b[0m 16ms/step - loss: 0.3929 - root_mean_squared_error: 0.6268\n",
      "\u001b[1m8/8\u001b[0m \u001b[32m━━━━━━━━━━━━━━━━━━━━\u001b[0m\u001b[37m\u001b[0m \u001b[1m0s\u001b[0m 7ms/step - loss: 0.3740 - root_mean_squared_error: 0.6116 - val_loss: 0.3350 - val_root_mean_squared_error: 0.5788\n",
      "\n",
      "Epoch 3/3                                                                      \n",
      "\n",
      "\u001b[1m1/8\u001b[0m \u001b[32m━━\u001b[0m\u001b[37m━━━━━━━━━━━━━━━━━━\u001b[0m \u001b[1m0s\u001b[0m 14ms/step - loss: 0.5251 - root_mean_squared_error: 0.7246\n",
      "\u001b[1m8/8\u001b[0m \u001b[32m━━━━━━━━━━━━━━━━━━━━\u001b[0m\u001b[37m\u001b[0m \u001b[1m0s\u001b[0m 6ms/step - loss: 0.3736 - root_mean_squared_error: 0.6112 - val_loss: 0.3346 - val_root_mean_squared_error: 0.5785\n",
      "\n",
      "\u001b[1m1/2\u001b[0m \u001b[32m━━━━━━━━━━\u001b[0m\u001b[37m━━━━━━━━━━\u001b[0m \u001b[1m0s\u001b[0m 12ms/step - loss: 0.3559 - root_mean_squared_error: 0.5966\n",
      "\u001b[1m2/2\u001b[0m \u001b[32m━━━━━━━━━━━━━━━━━━━━\u001b[0m\u001b[37m\u001b[0m \u001b[1m0s\u001b[0m 13ms/step - loss: 0.3346 - root_mean_squared_error: 0.5785\n",
      "\n",
      " 50%|█████     | 2/4 [00:10<00:09,  4.83s/trial, best loss: 0.5382937788963318]"
     ]
    },
    {
     "name": "stderr",
     "output_type": "stream",
     "text": [
      "2025/07/30 08:28:01 WARNING mlflow.models.model: `artifact_path` is deprecated. Please use `name` instead.\n",
      "\n"
     ]
    },
    {
     "name": "stdout",
     "output_type": "stream",
     "text": [
      "Epoch 1/3                                                                      \n",
      "\n",
      "\u001b[1m1/8\u001b[0m \u001b[32m━━\u001b[0m\u001b[37m━━━━━━━━━━━━━━━━━━\u001b[0m \u001b[1m1s\u001b[0m 231ms/step - loss: 0.4059 - root_mean_squared_error: 0.6371\n",
      "\u001b[1m8/8\u001b[0m \u001b[32m━━━━━━━━━━━━━━━━━━━━\u001b[0m\u001b[37m\u001b[0m \u001b[1m0s\u001b[0m 17ms/step - loss: 0.4869 - root_mean_squared_error: 0.6978 - val_loss: 0.4466 - val_root_mean_squared_error: 0.6683\n",
      "\n",
      "Epoch 2/3                                                                      \n",
      "\n",
      "\u001b[1m1/8\u001b[0m \u001b[32m━━\u001b[0m\u001b[37m━━━━━━━━━━━━━━━━━━\u001b[0m \u001b[1m0s\u001b[0m 15ms/step - loss: 0.3520 - root_mean_squared_error: 0.5933\n",
      "\u001b[1m8/8\u001b[0m \u001b[32m━━━━━━━━━━━━━━━━━━━━\u001b[0m\u001b[37m\u001b[0m \u001b[1m0s\u001b[0m 6ms/step - loss: 0.4809 - root_mean_squared_error: 0.6935 - val_loss: 0.4409 - val_root_mean_squared_error: 0.6640\n",
      "\n",
      "Epoch 3/3                                                                      \n",
      "\n",
      "\u001b[1m1/8\u001b[0m \u001b[32m━━\u001b[0m\u001b[37m━━━━━━━━━━━━━━━━━━\u001b[0m \u001b[1m0s\u001b[0m 15ms/step - loss: 0.4341 - root_mean_squared_error: 0.6589\n",
      "\u001b[1m8/8\u001b[0m \u001b[32m━━━━━━━━━━━━━━━━━━━━\u001b[0m\u001b[37m\u001b[0m \u001b[1m0s\u001b[0m 6ms/step - loss: 0.4750 - root_mean_squared_error: 0.6892 - val_loss: 0.4350 - val_root_mean_squared_error: 0.6596\n",
      "\n",
      "\u001b[1m1/2\u001b[0m \u001b[32m━━━━━━━━━━\u001b[0m\u001b[37m━━━━━━━━━━\u001b[0m \u001b[1m0s\u001b[0m 12ms/step - loss: 0.4763 - root_mean_squared_error: 0.6901\n",
      "\u001b[1m2/2\u001b[0m \u001b[32m━━━━━━━━━━━━━━━━━━━━\u001b[0m\u001b[37m\u001b[0m \u001b[1m0s\u001b[0m 13ms/step - loss: 0.4350 - root_mean_squared_error: 0.6596\n",
      "\n",
      " 75%|███████▌  | 3/4 [00:14<00:04,  4.48s/trial, best loss: 0.5382937788963318]"
     ]
    },
    {
     "name": "stderr",
     "output_type": "stream",
     "text": [
      "2025/07/30 08:28:06 WARNING mlflow.models.model: `artifact_path` is deprecated. Please use `name` instead.\n",
      "\n"
     ]
    },
    {
     "name": "stdout",
     "output_type": "stream",
     "text": [
      "100%|██████████| 4/4 [00:18<00:00,  4.52s/trial, best loss: 0.5382937788963318]"
     ]
    },
    {
     "name": "stderr",
     "output_type": "stream",
     "text": [
      "2025/07/30 08:28:09 WARNING mlflow.models.model: `artifact_path` is deprecated. Please use `name` instead.\n"
     ]
    },
    {
     "name": "stdout",
     "output_type": "stream",
     "text": [
      "\n",
      "Best parameters: {'lr': np.float64(0.0003166058785022323), 'momentum': np.float64(0.8980089801343761)}\n",
      "Best eval rmse: 0.5382937788963318\n"
     ]
    }
   ],
   "source": [
    "mlflow.set_experiment(\"deiabetes-prediction\")\n",
    "\n",
    "with mlflow.start_run():\n",
    "    trials = Trials()\n",
    "    best = fmin(\n",
    "        fn=objective,\n",
    "        space=space,\n",
    "        algo=tpe.suggest,\n",
    "        max_evals=4,\n",
    "        trials=trials\n",
    "    )\n",
    "\n",
    "    best_run = sorted(trials.results, key=lambda x: x[\"loss\"])[0]\n",
    "\n",
    "    # Log the best parameters, loss, and model\n",
    "    mlflow.log_params(best)\n",
    "    mlflow.log_metric(\"eval_rmse\", best_run[\"loss\"])\n",
    "    mlflow.tensorflow.log_model(best_run[\"model\"], \"model\", signature=signature)\n",
    "\n",
    "    # Print out the best parameters and corresponding loss\n",
    "    print(f\"Best parameters: {best}\")\n",
    "    print(f\"Best eval rmse: {best_run['loss']}\")"
   ]
  },
  {
   "cell_type": "code",
   "execution_count": null,
   "id": "2a9d311c",
   "metadata": {},
   "outputs": [
    {
     "name": "stderr",
     "output_type": "stream",
     "text": [
      "Downloading artifacts:   0%|          | 0/1 [00:00<?, ?it/s]\n",
      "Downloading artifacts: 100%|██████████| 7/7 [00:00<00:00, 1661.49it/s] "
     ]
    },
    {
     "name": "stdout",
     "output_type": "stream",
     "text": [
      "\u001b[1m6/6\u001b[0m \u001b[32m━━━━━━━━━━━━━━━━━━━━\u001b[0m\u001b[37m\u001b[0m \u001b[1m0s\u001b[0m 2ms/step \n"
     ]
    },
    {
     "name": "stderr",
     "output_type": "stream",
     "text": [
      "\n"
     ]
    },
    {
     "data": {
      "text/plain": [
       "array([[ 2.93438554e-01],\n",
       "       [ 1.81930184e-01],\n",
       "       [ 5.58226764e-01],\n",
       "       [ 7.05736339e-01],\n",
       "       [ 1.45250931e-01],\n",
       "       [ 1.54406384e-01],\n",
       "       [ 6.63866937e-01],\n",
       "       [ 1.02144098e+00],\n",
       "       [ 9.35668498e-02],\n",
       "       [-3.28742489e-02],\n",
       "       [-1.00624308e-01],\n",
       "       [ 1.10664010e-01],\n",
       "       [ 4.99363810e-01],\n",
       "       [ 5.33368051e-01],\n",
       "       [ 3.04923683e-01],\n",
       "       [ 3.83424401e-01],\n",
       "       [ 1.32979542e-01],\n",
       "       [ 2.40120552e-02],\n",
       "       [ 4.42287296e-01],\n",
       "       [ 2.69227326e-01],\n",
       "       [ 4.56280634e-02],\n",
       "       [ 7.65051916e-02],\n",
       "       [-7.58702159e-02],\n",
       "       [ 3.44886392e-01],\n",
       "       [-1.55668054e-03],\n",
       "       [ 2.50827193e-01],\n",
       "       [ 6.53895885e-02],\n",
       "       [ 4.20957774e-01],\n",
       "       [ 1.71635255e-01],\n",
       "       [ 1.49602428e-01],\n",
       "       [ 7.82353103e-01],\n",
       "       [ 8.60386640e-02],\n",
       "       [ 2.79720396e-01],\n",
       "       [ 7.42885709e-01],\n",
       "       [ 2.13392809e-01],\n",
       "       [ 3.54820341e-01],\n",
       "       [ 7.20261991e-01],\n",
       "       [ 3.62659603e-01],\n",
       "       [ 2.30130956e-01],\n",
       "       [ 7.46296346e-01],\n",
       "       [ 1.58457309e-01],\n",
       "       [ 6.01812899e-01],\n",
       "       [ 9.36920121e-02],\n",
       "       [ 4.28049058e-01],\n",
       "       [ 4.61736172e-01],\n",
       "       [ 3.38575065e-01],\n",
       "       [ 8.38972747e-01],\n",
       "       [ 1.49548620e-01],\n",
       "       [ 7.53807545e-01],\n",
       "       [ 7.56338894e-01],\n",
       "       [ 2.03856364e-01],\n",
       "       [ 4.16000694e-01],\n",
       "       [ 4.41806138e-01],\n",
       "       [ 6.58634603e-01],\n",
       "       [ 6.68489397e-01],\n",
       "       [ 1.65959388e-01],\n",
       "       [ 1.42172024e-01],\n",
       "       [ 1.48592615e+00],\n",
       "       [ 3.96086991e-01],\n",
       "       [ 1.66641131e-01],\n",
       "       [ 1.65391639e-01],\n",
       "       [ 1.73548266e-01],\n",
       "       [ 1.12799072e+00],\n",
       "       [ 7.48303473e-01],\n",
       "       [ 1.68943867e-01],\n",
       "       [ 4.17471409e-01],\n",
       "       [ 2.55770236e-01],\n",
       "       [-2.49177709e-01],\n",
       "       [ 7.52880573e-01],\n",
       "       [ 1.13974583e+00],\n",
       "       [ 6.13958538e-01],\n",
       "       [-8.61285478e-02],\n",
       "       [ 3.19575608e-01],\n",
       "       [ 1.23548195e-01],\n",
       "       [ 4.50319052e-01],\n",
       "       [-1.87224969e-02],\n",
       "       [ 5.05869150e-01],\n",
       "       [ 3.22420120e-01],\n",
       "       [ 4.29433733e-01],\n",
       "       [-9.42936689e-02],\n",
       "       [ 4.34683591e-01],\n",
       "       [ 4.56855714e-01],\n",
       "       [ 2.41857737e-01],\n",
       "       [ 2.06547827e-01],\n",
       "       [ 4.48812515e-01],\n",
       "       [ 1.55357152e-01],\n",
       "       [ 6.51646852e-02],\n",
       "       [ 3.02381486e-01],\n",
       "       [-3.29683572e-02],\n",
       "       [ 2.87198603e-01],\n",
       "       [ 5.25459707e-01],\n",
       "       [-1.26325086e-01],\n",
       "       [ 1.52963328e+00],\n",
       "       [ 4.38832372e-01],\n",
       "       [ 4.45584297e-01],\n",
       "       [ 3.36525410e-01],\n",
       "       [ 2.25007102e-01],\n",
       "       [ 4.21528906e-01],\n",
       "       [ 9.72895920e-01],\n",
       "       [-5.69082145e-03],\n",
       "       [ 2.13188753e-01],\n",
       "       [ 2.39812985e-01],\n",
       "       [ 4.06943858e-01],\n",
       "       [ 2.00080588e-01],\n",
       "       [ 5.85940063e-01],\n",
       "       [ 1.84827685e-01],\n",
       "       [ 2.68782675e-02],\n",
       "       [ 2.62801737e-01],\n",
       "       [ 6.66195452e-01],\n",
       "       [ 4.16031957e-01],\n",
       "       [ 1.56750470e-01],\n",
       "       [ 8.56013536e-01],\n",
       "       [ 1.41468573e+00],\n",
       "       [ 2.66097993e-01],\n",
       "       [ 3.27519685e-01],\n",
       "       [ 3.87665838e-01],\n",
       "       [ 4.13743407e-02],\n",
       "       [ 4.58373696e-01],\n",
       "       [ 7.32387066e-01],\n",
       "       [ 3.47944111e-01],\n",
       "       [ 6.77532256e-01],\n",
       "       [ 5.16863644e-01],\n",
       "       [-2.85855159e-02],\n",
       "       [ 5.22413611e-01],\n",
       "       [ 6.43205464e-01],\n",
       "       [ 2.37571761e-01],\n",
       "       [ 1.28932106e+00],\n",
       "       [ 6.06564581e-01],\n",
       "       [ 2.67715573e-01],\n",
       "       [ 4.64283705e-01],\n",
       "       [ 7.05731452e-01],\n",
       "       [ 3.62104207e-01],\n",
       "       [ 7.86638975e-01],\n",
       "       [ 1.73896149e-01],\n",
       "       [ 5.31848669e-01],\n",
       "       [ 1.56841889e-01],\n",
       "       [ 4.74607915e-01],\n",
       "       [ 3.59994620e-01],\n",
       "       [ 3.53158414e-01],\n",
       "       [ 4.22427028e-01],\n",
       "       [ 2.36318186e-01],\n",
       "       [ 6.39385998e-01],\n",
       "       [ 5.35571456e-01],\n",
       "       [ 9.70848858e-01],\n",
       "       [ 4.92560774e-01],\n",
       "       [ 5.78093678e-02],\n",
       "       [ 4.51722264e-01],\n",
       "       [ 6.53980017e-01],\n",
       "       [ 4.22232077e-02],\n",
       "       [ 4.31485564e-01],\n",
       "       [ 6.23359144e-01],\n",
       "       [-6.26162626e-04],\n",
       "       [ 6.91081822e-01],\n",
       "       [ 2.50441790e-01],\n",
       "       [ 1.48252499e+00],\n",
       "       [ 6.02079332e-01],\n",
       "       [ 4.01026070e-01],\n",
       "       [ 5.11873662e-01],\n",
       "       [ 3.20194572e-01],\n",
       "       [ 4.59256411e-01],\n",
       "       [ 7.64159381e-01],\n",
       "       [ 3.86740953e-01],\n",
       "       [ 5.09094417e-01],\n",
       "       [ 8.06695998e-01],\n",
       "       [ 5.16804099e-01],\n",
       "       [ 1.89711183e-01],\n",
       "       [ 1.84374496e-01],\n",
       "       [ 1.69592127e-01],\n",
       "       [ 3.07283401e-01],\n",
       "       [ 7.01189101e-01],\n",
       "       [ 5.11914849e-01],\n",
       "       [ 3.45310658e-01],\n",
       "       [ 2.14559659e-01],\n",
       "       [ 8.10764611e-01],\n",
       "       [ 9.70529497e-01],\n",
       "       [ 3.06942791e-01],\n",
       "       [ 1.67384431e-01],\n",
       "       [-1.65957958e-02],\n",
       "       [ 3.47718269e-01],\n",
       "       [ 5.02000928e-01],\n",
       "       [ 5.14401138e-01],\n",
       "       [ 3.17666709e-01],\n",
       "       [-3.15663785e-01],\n",
       "       [ 2.94224560e-01],\n",
       "       [ 6.59619510e-01],\n",
       "       [ 4.16272849e-01],\n",
       "       [ 4.77459133e-01],\n",
       "       [ 3.37772906e-01],\n",
       "       [ 4.79935020e-01],\n",
       "       [ 3.63305569e-01],\n",
       "       [ 3.32832307e-01],\n",
       "       [ 4.94602382e-01]], dtype=float32)"
      ]
     },
     "execution_count": 41,
     "metadata": {},
     "output_type": "execute_result"
    }
   ],
   "source": [
    "## Inferencing\n",
    "\n",
    "from mlflow.models import validate_serving_input\n",
    "\n",
    "model_uri = \"runs:/975ecdd4d2f646fc958311000bf7afb5/model\"\n",
    "\n",
    "# The logged model does not contain an input_example.\n",
    "# Manually generate a serving payload to verify your model prior to deployment.\n",
    "from mlflow.models import convert_input_example_to_serving_input\n",
    "\n",
    "# Define INPUT_EXAMPLE via assignment with your own input example to the model\n",
    "# A valid input example is a data instance suitable for pyfunc prediction\n",
    "serving_payload = convert_input_example_to_serving_input(X_test)\n",
    "\n",
    "# Validate the serving payload works on the model\n",
    "validate_serving_input(model_uri, serving_payload)"
   ]
  },
  {
   "cell_type": "code",
   "execution_count": null,
   "id": "9bf24f6a",
   "metadata": {},
   "outputs": [
    {
     "name": "stderr",
     "output_type": "stream",
     "text": [
      "Downloading artifacts:   0%|          | 0/1 [00:00<?, ?it/s]\n",
      "Downloading artifacts: 100%|██████████| 7/7 [00:00<00:00, 3106.89it/s] \n"
     ]
    }
   ],
   "source": [
    "\n",
    "loaded_model = mlflow.pyfunc.load_model(model_uri=model_uri)\n"
   ]
  },
  {
   "cell_type": "code",
   "execution_count": 39,
   "id": "531bf8e5",
   "metadata": {},
   "outputs": [
    {
     "name": "stdout",
     "output_type": "stream",
     "text": [
      "\u001b[1m6/6\u001b[0m \u001b[32m━━━━━━━━━━━━━━━━━━━━\u001b[0m\u001b[37m\u001b[0m \u001b[1m0s\u001b[0m 3ms/step \n"
     ]
    }
   ],
   "source": [
    "y_pred = loaded_model.predict(X_test)"
   ]
  },
  {
   "cell_type": "code",
   "execution_count": 40,
   "id": "4fd8fb5f",
   "metadata": {},
   "outputs": [
    {
     "name": "stderr",
     "output_type": "stream",
     "text": [
      "Successfully registered model 'diabetes_model'.\n",
      "2025/07/30 11:24:14 WARNING mlflow.tracking._model_registry.fluent: Run with id 975ecdd4d2f646fc958311000bf7afb5 has no artifacts at artifact path 'model', registering model based on models:/m-a75eea1c33104ccebb4cee5a7c72043d instead\n",
      "Created version '1' of model 'diabetes_model'.\n"
     ]
    },
    {
     "data": {
      "text/plain": [
       "<ModelVersion: aliases=[], creation_timestamp=1753863854532, current_stage='None', deployment_job_state=None, description=None, last_updated_timestamp=1753863854532, metrics=[<Metric: dataset_digest=None, dataset_name=None, key='eval_rmse', model_id='m-a75eea1c33104ccebb4cee5a7c72043d', run_id='975ecdd4d2f646fc958311000bf7afb5', step=0, timestamp=1753853289546, value=0.5382937788963318>], model_id='m-a75eea1c33104ccebb4cee5a7c72043d', name='diabetes_model', params={'lr': '0.0003166058785022323', 'momentum': '0.8980089801343761'}, run_id='975ecdd4d2f646fc958311000bf7afb5', run_link=None, source='models:/m-a75eea1c33104ccebb4cee5a7c72043d', status='READY', status_message=None, tags={}, user_id=None, version=1>"
      ]
     },
     "execution_count": 40,
     "metadata": {},
     "output_type": "execute_result"
    }
   ],
   "source": [
    "mlflow.register_model(model_uri=model_uri, name=\"diabetes_model\")"
   ]
  },
  {
   "cell_type": "code",
   "execution_count": null,
   "id": "5506f913",
   "metadata": {},
   "outputs": [],
   "source": []
  }
 ],
 "metadata": {
  "kernelspec": {
   "display_name": "general_env",
   "language": "python",
   "name": "python3"
  },
  "language_info": {
   "codemirror_mode": {
    "name": "ipython",
    "version": 3
   },
   "file_extension": ".py",
   "mimetype": "text/x-python",
   "name": "python",
   "nbconvert_exporter": "python",
   "pygments_lexer": "ipython3",
   "version": "3.10.12"
  }
 },
 "nbformat": 4,
 "nbformat_minor": 5
}
