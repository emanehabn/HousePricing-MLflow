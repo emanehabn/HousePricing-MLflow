{
 "cells": [
  {
   "cell_type": "code",
   "execution_count": 18,
   "id": "eee9aae0",
   "metadata": {},
   "outputs": [],
   "source": [
    "import mlflow\n",
    "import pandas as pd\n",
    "import mlflow.sklearn\n",
    "from urllib.parse import urlparse\n",
    "from mlflow.models import infer_signature\n",
    "from sklearn.metrics import mean_squared_error\n",
    "from sklearn.ensemble import RandomForestRegressor\n",
    "from sklearn.datasets import fetch_california_housing\n",
    "from sklearn.model_selection import train_test_split,GridSearchCV\n"
   ]
  },
  {
   "cell_type": "markdown",
   "id": "e98f62cc",
   "metadata": {},
   "source": [
    "### Describtion: Applying Random forest regressor for housing calefronia \n",
    "\n",
    "### Project Structure\n",
    "- Dataset and hyperparameters grid Prepration\n",
    "- Model and Grid Search\n",
    "- MLflow setting then tracking"
   ]
  },
  {
   "cell_type": "markdown",
   "id": "287e52d9",
   "metadata": {},
   "source": []
  },
  {
   "cell_type": "code",
   "execution_count": 6,
   "id": "b30b6740",
   "metadata": {},
   "outputs": [
    {
     "data": {
      "text/plain": [
       "dict_keys(['data', 'target', 'frame', 'target_names', 'feature_names', 'DESCR'])"
      ]
     },
     "execution_count": 6,
     "metadata": {},
     "output_type": "execute_result"
    }
   ],
   "source": [
    "housing_dataset = fetch_california_housing()\n",
    "housing_dataset.keys()"
   ]
  },
  {
   "cell_type": "code",
   "execution_count": 13,
   "id": "a68b1fb5",
   "metadata": {},
   "outputs": [],
   "source": [
    "data = pd.DataFrame(housing_dataset.data, columns=housing_dataset.feature_names)\n",
    "data['Price'] = housing_dataset.target\n",
    "\n",
    "X = data.drop(columns=['Price'])\n",
    "y = data[\"Price\"]"
   ]
  },
  {
   "cell_type": "code",
   "execution_count": 25,
   "id": "68bab87e",
   "metadata": {},
   "outputs": [],
   "source": [
    "X_train, X_test, y_train, y_test = train_test_split(X, y, test_size=0.20)\n",
    "\n",
    "# Set mlflow model input/output signitur:\n",
    "signature = infer_signature(X_train, y_train)\n",
    "\n",
    "param_grid = {\n",
    "    'n_estimators': [100, 200],\n",
    "    'max_depth': [5, 10, None],\n",
    "    'min_samples_split': [2, 5],\n",
    "    'min_samples_leaf': [1, 2]\n",
    "}"
   ]
  },
  {
   "cell_type": "code",
   "execution_count": 26,
   "id": "554f27c5",
   "metadata": {},
   "outputs": [],
   "source": [
    "def tuning_model_parameters(X_train, y_train, param_grid):\n",
    "    \n",
    "    rf = RandomForestRegressor()\n",
    "\n",
    "    grid_search = GridSearchCV(estimator=rf, param_grid=param_grid, \\\n",
    "                                cv=3, n_jobs=-1, verbose= 2, scoring=\"neg_mean_squared_error\")\n",
    "    \n",
    "    grid_search.fit(X_train, y_train)\n",
    "\n",
    "    return grid_search\n",
    "\n"
   ]
  },
  {
   "cell_type": "code",
   "execution_count": null,
   "id": "00636bfb",
   "metadata": {},
   "outputs": [
    {
     "name": "stderr",
     "output_type": "stream",
     "text": [
      "2025/07/29 09:20:11 WARNING mlflow.models.model: `artifact_path` is deprecated. Please use `name` instead.\n",
      "\u001b[31m2025/07/29 09:20:13 WARNING mlflow.models.model: Model logged without a signature and input example. Please set `input_example` parameter when logging the model to auto infer the model signature.\u001b[0m\n",
      "Successfully registered model 'Best RandomForest Model'.\n",
      "2025/07/29 09:20:13 INFO mlflow.store.model_registry.abstract_store: Waiting up to 300 seconds for model version to finish creation. Model name: Best RandomForest Model, version 1\n"
     ]
    },
    {
     "name": "stdout",
     "output_type": "stream",
     "text": [
      "Best Hyperparameters: {'max_depth': None, 'min_samples_leaf': 2, 'min_samples_split': 2, 'n_estimators': 100}\n",
      "Mean Squared Error: 0.25240934790254815\n",
      "🏃 View run blushing-boar-205 at: http://127.0.0.1:5000/#/experiments/0/runs/fc926474297c4f7682d023a5a08516d5\n",
      "🧪 View experiment at: http://127.0.0.1:5000/#/experiments/0\n"
     ]
    },
    {
     "name": "stderr",
     "output_type": "stream",
     "text": [
      "Created version '1' of model 'Best RandomForest Model'.\n"
     ]
    }
   ],
   "source": [
    "# ML Experiement Setting\n",
    "with mlflow.start_run():\n",
    "    \n",
    "    # Search > best model > evaluate > logging > tracking uri\n",
    "\n",
    "    # Grid Search and Best Model.\n",
    "\n",
    "    grid_search = tuning_model_parameters(X_train, y_train, param_grid)\n",
    "\n",
    "    best_model = grid_search.best_estimator_\n",
    "\n",
    "    # Model Evaluate\n",
    "\n",
    "    y_pred = best_model.predict(X_test)\n",
    "\n",
    "    mse = mean_squared_error(y_true=y_test, y_pred=y_pred)\n",
    "\n",
    "\n",
    "    # Log metrics and parameters\n",
    "    mlflow.log_param(\"best_n_estimators\", grid_search.best_params_[\"n_estimators\"])\n",
    "    mlflow.log_param(\"best_max_depth\", grid_search.best_params_[\"max_depth\"])\n",
    "    mlflow.log_param(\"best_min_samples_split\", grid_search.best_params_[\"min_samples_split\"])\n",
    "    mlflow.log_param(\"best_min_samples_leaf\", grid_search.best_params_[\"min_samples_leaf\"])\n",
    "\n",
    "    mlflow.log_param(\"mse\", mse)\n",
    "\n",
    "    # URI Tracking\n",
    "\n",
    "    mlflow.set_tracking_uri(uri=\"http://127.0.0.1:5000\")\n",
    "\n",
    "    # Register the model into mlflow if it is not already registered by checking the response\n",
    "\n",
    "    tracking_url_type_score = urlparse( mlflow.get_tracking_uri()).scheme\n",
    "\n",
    "    if tracking_url_type_score != 'file':\n",
    "        mlflow.sklearn.log_model(best_model, \"best_rf_model\", registered_model_name=\"Best RandomForest Model\")\n",
    "\n",
    "    else:\n",
    "        mlflow.sklearn.log_model(best_model, \"best_rf_model\", signature=signature)\n",
    "\n",
    "\n",
    "    print(f\"Best Hyperparameters: {grid_search.best_params_}\")\n",
    "    print(f\"Mean Squared Error: {mse}\")\n",
    "\n",
    "    "
   ]
  },
  {
   "cell_type": "code",
   "execution_count": 34,
   "id": "d1c80043",
   "metadata": {},
   "outputs": [
    {
     "name": "stdout",
     "output_type": "stream",
     "text": [
      "Tracking URI: http://127.0.0.1:5000\n"
     ]
    }
   ],
   "source": [
    "print(\"Tracking URI:\", mlflow.get_tracking_uri())"
   ]
  },
  {
   "cell_type": "code",
   "execution_count": null,
   "id": "2a2b1b3b",
   "metadata": {},
   "outputs": [
    {
     "name": "stdout",
     "output_type": "stream",
     "text": [
      "Run ID: fc926474297c4f7682d023a5a08516d5\n",
      "Experiment ID: 0\n",
      "Run Name: blushing-boar-205\n",
      "Status: FINISHED\n",
      "Start Time: 1753770011066\n",
      "Artifact URI: file:///home/eman/Documents/Projects/mlops-krish/HousePricingMLflow/mlruns/0/fc926474297c4f7682d023a5a08516d5/artifacts\n"
     ]
    }
   ],
   "source": [
    "# Printing Last experieement infos\n",
    "\n",
    "last_active_run = mlflow.last_active_run()\n",
    "print(\"Run ID:\", last_active_run.info.run_id)\n",
    "print(\"Experiment ID:\", last_active_run.info.experiment_id)\n",
    "print(\"Run Name:\", last_active_run.data.tags.get(\"mlflow.runName\", \"No name\"))\n",
    "print(\"Status:\", last_active_run.info.status)\n",
    "print(\"Start Time:\", last_active_run.info.start_time)\n",
    "print(\"Artifact URI:\", last_active_run.info.artifact_uri)\n",
    "\n"
   ]
  },
  {
   "cell_type": "code",
   "execution_count": null,
   "id": "675960a8",
   "metadata": {},
   "outputs": [],
   "source": []
  },
  {
   "cell_type": "code",
   "execution_count": null,
   "id": "2efbbd29",
   "metadata": {},
   "outputs": [],
   "source": []
  }
 ],
 "metadata": {
  "kernelspec": {
   "display_name": "general_env",
   "language": "python",
   "name": "python3"
  },
  "language_info": {
   "codemirror_mode": {
    "name": "ipython",
    "version": 3
   },
   "file_extension": ".py",
   "mimetype": "text/x-python",
   "name": "python",
   "nbconvert_exporter": "python",
   "pygments_lexer": "ipython3",
   "version": "3.10.12"
  }
 },
 "nbformat": 4,
 "nbformat_minor": 5
}
